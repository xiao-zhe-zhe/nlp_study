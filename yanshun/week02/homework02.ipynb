{
 "cells": [
  {
   "cell_type": "code",
   "execution_count": 1,
   "id": "e02a90d2-b1fe-4c72-9a9a-cc9fcc6c8e02",
   "metadata": {},
   "outputs": [],
   "source": [
    "# 导入包\n",
    "import torch\n",
    "import torch.nn as nn\n",
    "import numpy as np\n",
    "import matplotlib\n",
    "matplotlib.use('TkAgg')\n",
    "import matplotlib.pyplot as plt\n",
    "# 启动matplotlib交互模式"
   ]
  },
  {
   "cell_type": "code",
   "execution_count": 2,
   "id": "de7eb828-61f4-41f6-9429-76cf4e674248",
   "metadata": {},
   "outputs": [],
   "source": [
    "%matplotlib inline"
   ]
  },
  {
   "cell_type": "code",
   "execution_count": 3,
   "id": "bba7dbb0-1ff8-4cd9-8075-7f477e413355",
   "metadata": {},
   "outputs": [
    {
     "data": {
      "text/plain": [
       "'\\n\\n基于pytorch框架编写模型训练\\n实现一个自行构造的找规律(机器学习)任务\\n规律：x是一个5维向量，最大的数字在哪维就属于哪一类。\\n\\n'"
      ]
     },
     "execution_count": 3,
     "metadata": {},
     "output_type": "execute_result"
    }
   ],
   "source": [
    "\"\"\"\n",
    "\n",
    "基于pytorch框架编写模型训练\n",
    "实现一个自行构造的找规律(机器学习)任务\n",
    "规律：x是一个5维向量，最大的数字在哪维就属于哪一类。\n",
    "\n",
    "\"\"\""
   ]
  },
  {
   "cell_type": "code",
   "execution_count": 4,
   "id": "3d26f225-288a-4267-a1a1-9f3a0e2136a0",
   "metadata": {},
   "outputs": [],
   "source": [
    "# 可以设置随机种子seed，保证每次的随机数都是一样的\n",
    "def setup_seed(seed):\n",
    "    torch.manual_seed(seed)\n",
    "\n",
    "# 设置随机数种子\n",
    "setup_seed(42)"
   ]
  },
  {
   "cell_type": "code",
   "execution_count": 5,
   "id": "474b59ad-dc67-4062-9daf-e3bed654b447",
   "metadata": {},
   "outputs": [],
   "source": [
    "# 生成一个样本, 样本的生成方法，代表了我们要学习的规律\n",
    "# 随机生成一个5维向量，最大的数字在哪维就属于哪一类。\n",
    "def build_sample():\n",
    "    x = np.random.random(5)\n",
    "    y = np.zeros(5)\n",
    "    y[np.argmax(x)] = 1\n",
    "    return x, y\n",
    "\n",
    "# 随机生成一批样本，这里存储一下\n",
    "def build_dataset(total_sample_num):\n",
    "    X = np.empty((total_sample_num, 5))\n",
    "    Y = np.empty((total_sample_num, 5))\n",
    "    for i in range(total_sample_num):\n",
    "        X[i], Y[i] = build_sample()\n",
    "    X = torch.FloatTensor(X)\n",
    "    Y = torch.FloatTensor(Y)\n",
    "    # 保存为 PyTorch 文件（单个文件包含两个张量）\n",
    "    torch.save({'X': X, 'Y': Y}, 'dataset.pt')\n",
    "    return torch.FloatTensor(X), torch.FloatTensor(Y)\n",
    "\n",
    "# build_dataset(10000)"
   ]
  },
  {
   "cell_type": "code",
   "execution_count": 6,
   "id": "328d3368-ceef-4414-836d-663fc28ada2b",
   "metadata": {},
   "outputs": [],
   "source": [
    "# 定义模型\n",
    "class TorchModel(nn.Module):\n",
    "    def __init__(self, input_size, hidden_size):\n",
    "        super(TorchModel, self).__init__()\n",
    "        self.linear1 = nn.Linear(input_size, hidden_size)  # 线性层\n",
    "        self.linear2 = nn.Linear(hidden_size, 5)\n",
    "        self.sig = nn.Sigmoid()  # nn.Sigmoid() sigmoid归一化函数\n",
    "        self.relu = nn.ReLU()\n",
    "        self.loss = nn.CrossEntropyLoss()  # loss函数采用交叉熵损失\n",
    "\n",
    "    # 当输入真实标签，返回loss值；无真实标签，返回预测值\n",
    "    def forward(self, x, y=None):\n",
    "        x = self.linear1(x)  # (batch_size, input_size) -> (batch_size, 1)\n",
    "        x = self.sig(x)  # (batch_size, 1) -> (batch_size, 1)\n",
    "        x = torch.softmax(x, dim=1)\n",
    "        x = self.linear2(x)\n",
    "        y_pred = x\n",
    "        if y is not None:\n",
    "            return self.loss(y_pred, y)  # 预测值和真实值计算损失\n",
    "        else:\n",
    "            return torch.softmax(y_pred, dim=1)  # 输出预测结果"
   ]
  },
  {
   "cell_type": "code",
   "execution_count": 7,
   "id": "bef1c75e-d356-4ffc-ae6c-e4480a213b04",
   "metadata": {},
   "outputs": [],
   "source": [
    "# 验证代码\n",
    "# 用来测试每轮模型的准确率\n",
    "def evaluate(model, val_x, val_y):\n",
    "    model.eval()\n",
    "    x, y = val_x, val_y\n",
    "    correct, wrong = 0, 0\n",
    "    with torch.no_grad():\n",
    "        y_pred = model(x)  # 模型预测 model.forward(x)\n",
    "        val_loss = model(x, y).item()\n",
    "        for y_p, y_t in zip(y_pred, y):  # 与真实标签进行对比\n",
    "            # print(type(np.argmax(y_p)))  # <class 'torch.Tensor'> 隐式转换\n",
    "            if y_t[torch.argmax(y_p)] == 1:\n",
    "                correct += 1  # 分类正确\n",
    "            else:\n",
    "                wrong += 1  #分类错误\n",
    "    print(f\"正确预测个数：{correct}, 正确率：{correct / (correct + wrong)}, loss: {val_loss}\")\n",
    "    return correct / (correct + wrong), val_loss"
   ]
  },
  {
   "cell_type": "code",
   "execution_count": null,
   "id": "7c0cdd26-f8c0-438a-900d-6e8a83c337c1",
   "metadata": {
    "scrolled": true
   },
   "outputs": [],
   "source": [
    "# 训练代码\n",
    "def main():\n",
    "    # 配置参数\n",
    "    epoch_num = 4000  # 训练轮数\n",
    "    batch_size = 20  # 每次训练样本个数\n",
    "    all_sample = 10000  # 每轮训练总共训练的样本总数\n",
    "    train_sample = 7000\n",
    "    input_size = 5  # 输入向量维度\n",
    "    hidden_size = 5\n",
    "    learning_rate = 0.001  # 学习率\n",
    "    # 建立模型\n",
    "    model = TorchModel(input_size, hidden_size)\n",
    "    log = []\n",
    "    # 选择优化器\n",
    "    optim = torch.optim.Adam(model.parameters(), lr=learning_rate)\n",
    "    # 创建训练集，正常任务是读取训练集\n",
    "    # build_dataset(all_sample)\n",
    "    loaded_data = torch.load('dataset.pt', weights_only=True)\n",
    "    X, Y = loaded_data['X'], loaded_data['Y']\n",
    "\n",
    "    # 分割数据集 7:2:1\n",
    "    train_x = X[:7000]\n",
    "    train_y = Y[:7000]\n",
    "    val_x = X[7000:9000]\n",
    "    val_y = Y[7000:9000]\n",
    "    test_x = X[9000:]\n",
    "    test_y = Y[9000:]\n",
    "    for i in range(5):\n",
    "        print(f\"本次预测集中共有{int(val_y.sum(dim=0)[i])}个第{i+1}类样本\")\n",
    "\n",
    "    # 训练过程\n",
    "    for epoch in range(epoch_num):\n",
    "        model.train()\n",
    "        watch_loss = np.empty(train_sample // batch_size)\n",
    "        for batch_index in range(train_sample // batch_size):    \n",
    "            x = train_x[batch_index * batch_size : (batch_index + 1) * batch_size]\n",
    "            y = train_y[batch_index * batch_size : (batch_index + 1) * batch_size]\n",
    "            loss = model(x, y)  # 计算loss  model.forward(x,y)\n",
    "            loss.backward()  # 计算梯度\n",
    "            optim.step()  # 更新权重\n",
    "            optim.zero_grad()  # 梯度归零\n",
    "            watch_loss[batch_index] = loss.item()\n",
    "        print(\"=========\\n第%d轮平均loss:%f\" % (epoch + 1, np.mean(watch_loss)))\n",
    "        acc, val_loss = evaluate(model, val_x, val_y)  # 测试本轮模型结果\n",
    "        log.append([acc, float(np.mean(watch_loss)), val_loss])\n",
    "    # 保存模型\n",
    "    torch.save(model.state_dict(), \"model.bin\")\n",
    "    # 画图\n",
    "    print(log)\n",
    "    return log\n",
    "log = main()"
   ]
  },
  {
   "cell_type": "code",
   "execution_count": 9,
   "id": "23ae071a-612c-437a-8df1-e45e465601be",
   "metadata": {},
   "outputs": [
    {
     "data": {
      "image/png": "[encoded data removed]",
      "text/plain": [
       "<Figure size 640x480 with 1 Axes>"
      ]
     },
     "metadata": {},
     "output_type": "display_data"
    }
   ],
   "source": [
    "# 绘制训练集loss；验证集acc，loss曲线\n",
    "plt.plot(range(len(log)), [l[0] for l in log], label=\"acc\")  # 画acc曲线\n",
    "plt.plot(range(len(log)), [l[1] for l in log], label=\"loss\")  # 画loss曲线\n",
    "plt.plot(range(len(log)), [l[2] for l in log], label=\"val_loss\")  # 画val_loss曲线\n",
    "plt.legend()\n",
    "plt.show()"
   ]
  },
  {
   "cell_type": "code",
   "execution_count": 19,
   "id": "19977320-a962-4706-a1a9-13a1032562f9",
   "metadata": {},
   "outputs": [],
   "source": [
    "# 预测代码\n",
    "import torch\n",
    "import matplotlib.pyplot as plt\n",
    "from sklearn.metrics import confusion_matrix\n",
    "import numpy as np\n",
    "\n",
    "# 在测试集上的预测\n",
    "def predict_batch(model_path, data_path):\n",
    "    input_size = 5\n",
    "    hidden_size = 5\n",
    "    model = TorchModel(input_size, hidden_size)\n",
    "    model.load_state_dict(torch.load(model_path, weights_only=True))  # 加载训练好的权重\n",
    "    print(model.state_dict())\n",
    "    all_preds = []\n",
    "    all_targets = []\n",
    "    \n",
    "    model.eval()\n",
    "    loaded_data = torch.load('dataset.pt', weights_only=True)\n",
    "    x, y = loaded_data['X'][9000:], loaded_data['Y'][9000:]\n",
    "    correct, wrong = 0, 0\n",
    "    \n",
    "    with torch.no_grad():\n",
    "        y_pred = model(x)  # 模型预测 model.forward(x)\n",
    "        for y_p, y_t in zip(y_pred, y):  # 与真实标签进行对比\n",
    "            if y_t[torch.argmax(y_p)] == 1:\n",
    "                correct += 1  # 分类正确\n",
    "            else:\n",
    "                wrong += 1  #分类错误\n",
    "            all_preds = torch.argmax(y_pred, dim=1).cpu().numpy()\n",
    "            all_targets = torch.argmax(y, dim=1).cpu().numpy()\n",
    "    print(f\"正确预测个数：{correct}, 正确率：{correct / (correct + wrong)}\")\n",
    "    return correct / (correct + wrong), all_preds, all_targets\n",
    "\n",
    "# 给定向量或矩阵的预测\n",
    "def predict_demo(model_path, input_vec):\n",
    "    input_size = 5\n",
    "    hidden_size = 5\n",
    "    model = TorchModel(input_size, hidden_size)\n",
    "    model.load_state_dict(torch.load(model_path, weights_only=True))  # 加载训练好的权重\n",
    "    print(model.state_dict())\n",
    "\n",
    "    model.eval()  # 测试模式\n",
    "    with torch.no_grad():  # 不计算梯度\n",
    "        result = model.forward(torch.FloatTensor(input_vec))  # 模型预测\n",
    "        # result = torch.softmax(result, dim=1)\n",
    "    for vec, res in zip(input_vec, result):\n",
    "        print(f\"输入：{vec}, 预测类别：{int(torch.argmax(res))}, 概率值：{float(res[torch.argmax(res)])}\")  # 打印结果\n",
    "\n",
    "# 随机创建数据并预测\n",
    "def predict_rand(model_path, total_sample_num):\n",
    "    input_size = 5\n",
    "    hidden_size = 5\n",
    "    model = TorchModel(input_size, hidden_size)\n",
    "    model.load_state_dict(torch.load(model_path, weights_only=True))  # 加载训练好的权重\n",
    "    print(model.state_dict())\n",
    "    \n",
    "    model.eval()\n",
    "    correct, wrong = 0, 0\n",
    "    X = np.empty((total_sample_num, 5))\n",
    "    Y = np.empty((total_sample_num, 5))\n",
    "    for i in range(total_sample_num):\n",
    "        X[i], Y[i] = build_sample()\n",
    "    x = torch.FloatTensor(X)\n",
    "    y = torch.FloatTensor(Y)\n",
    "    with torch.no_grad():\n",
    "        y_pred = model(x)  # 模型预测 model.forward(x)\n",
    "        for y_p, y_t in zip(y_pred, y):  # 与真实标签进行对比\n",
    "            # print(type(np.argmax(y_p)))  # <class 'torch.Tensor'> 隐式转换\n",
    "            if y_t[torch.argmax(y_p)] == 1:\n",
    "                correct += 1  # 分类正确\n",
    "            else:\n",
    "                wrong += 1  #分类错误\n",
    "    print(f\"正确预测个数：{correct}, 正确率：{correct / (correct + wrong)}\")\n",
    "    return correct / (correct + wrong)"
   ]
  },
  {
   "cell_type": "code",
   "execution_count": 14,
   "id": "41de21c6-51e8-49a0-83b7-aa0cea340a1b",
   "metadata": {},
   "outputs": [
    {
     "name": "stdout",
     "output_type": "stream",
     "text": [
      "OrderedDict({'linear1.weight': tensor([[-2.8527, 11.4112, -2.6973, -2.6452, -2.9145],\n",
      "        [11.5419, -2.9421, -2.7019, -2.7162, -2.8453],\n",
      "        [-2.9655, -3.1308, -2.7830, -2.7689, 11.9883],\n",
      "        [-2.9963, -2.9210, 11.7614, -2.6883, -2.8955],\n",
      "        [-2.8464, -2.9848, -2.7229, 11.7184, -2.8416]]), 'linear1.bias': tensor([-3.1685, -3.3012, -3.3245, -3.2065, -3.2036]), 'linear2.weight': tensor([[-32.6237,  86.4699, -29.3211, -30.8301, -29.7906],\n",
      "        [ 87.8592, -32.6890, -29.0172, -32.7499, -32.2360],\n",
      "        [-32.8786, -30.8483, -32.7517,  88.7323, -30.8876],\n",
      "        [-31.4989, -31.4831, -31.6553, -33.4808,  89.3124],\n",
      "        [-29.4354, -31.0992,  84.9678, -33.5424, -30.5890]]), 'linear2.bias': tensor([-0.0279, -0.0040,  0.0488,  0.1638,  0.5395])})\n",
      "输入：[0.07889086, 0.15229675, 0.31082123, 0.03504317, 0.88920843], 预测类别：4, 概率值：1.0\n",
      "输入：[0.74963533, 0.5524256, 0.95520434, 0.95758807, 0.84890681], 预测类别：3, 概率值：0.6187652945518494\n",
      "输入：[0.00797868, 0.67482528, 0.13625847, 0.34675372, 0.19871392], 预测类别：1, 概率值：1.0\n",
      "输入：[0.09349776, 0.59416669, 0.92579291, 0.41567412, 0.1358894], 预测类别：2, 概率值：1.0\n",
      "输入：[0.92579291, 0.59416669, 0.09349776, 0.41567412, 0.1358894], 预测类别：0, 概率值：1.0\n"
     ]
    }
   ],
   "source": [
    "# 给定向量或矩阵的预测\n",
    "model_path = \"model99.bin\"\n",
    "data_path = \"dataset.pt\"\n",
    "input_vec = [[0.07889086,0.15229675,0.31082123,0.03504317,0.88920843],\n",
    "             [0.74963533,0.5524256,0.95520434,0.95758807,0.84890681],\n",
    "             [0.00797868,0.67482528,0.13625847,0.34675372,0.19871392],\n",
    "             [0.09349776,0.59416669,0.92579291,0.41567412,0.1358894],\n",
    "             [0.92579291,0.59416669,0.09349776,0.41567412,0.1358894]]\n",
    "predict_demo(model_path, input_vec)"
   ]
  },
  {
   "cell_type": "code",
   "execution_count": 31,
   "id": "f27153a3-26e9-457f-82a7-8cba9d912eb6",
   "metadata": {},
   "outputs": [
    {
     "name": "stdout",
     "output_type": "stream",
     "text": [
      "OrderedDict({'linear1.weight': tensor([[-2.8799, 11.5018, -2.7153, -2.6807, -2.9423],\n",
      "        [-2.8843, -3.0355, -2.7452, 11.8481, -2.8744],\n",
      "        [11.6562, -2.9788, -2.7228, -2.7518, -2.8668],\n",
      "        [-3.0062, -3.1818, -2.8118, -2.8170, 12.1446],\n",
      "        [-3.0318, -2.9617, 11.8937, -2.7276, -2.9252]]), 'linear1.bias': tensor([-3.1628, -3.2110, -3.3118, -3.3399, -3.2123]), 'linear2.weight': tensor([[-30.1667, -27.6593,  79.2969, -27.2143, -28.3352],\n",
      "        [ 80.0335, -29.9528, -29.5694, -27.0126, -30.2569],\n",
      "        [-30.1449, -28.3212, -27.7083, -30.1760,  81.0823],\n",
      "        [-29.2941,  80.9646, -28.6814, -29.5954, -31.1997],\n",
      "        [-26.5997, -27.6786, -27.4304,  77.5233, -30.3481]]), 'linear2.bias': tensor([-0.0384,  0.0070, -0.1882,  0.3821, -0.0645])})\n",
      "正确预测个数：9910, 正确率：0.991\n"
     ]
    },
    {
     "data": {
      "text/plain": [
       "0.991"
      ]
     },
     "execution_count": 31,
     "metadata": {},
     "output_type": "execute_result"
    }
   ],
   "source": [
    "# 随机创建数据并预测\n",
    "model_path = \"model.bin\"\n",
    "predict_rand(model_path, 10000)"
   ]
  },
  {
   "cell_type": "code",
   "execution_count": 34,
   "id": "cd70a0d5-a435-4fa2-847a-761a11f115b6",
   "metadata": {},
   "outputs": [],
   "source": [
    "# 绘制混淆矩阵\n",
    "def plot_confusion_matrix(cm, classes, normalize=False, title='Confusion Matrix', cmap=plt.cm.Blues):\n",
    "    \"\"\"\n",
    "    参数说明：\n",
    "    cm : 计算好的混淆矩阵\n",
    "    classes : 类别名称列表\n",
    "    normalize : 是否归一化显示\n",
    "    title : 图表标题\n",
    "    cmap : 颜色映射\n",
    "    \"\"\"\n",
    "    if normalize:\n",
    "        cm = cm.astype('float') / cm.sum(axis=1)[:, np.newaxis]\n",
    "        print(\"归一化混淆矩阵\")\n",
    "    else:\n",
    "        print('未归一化混淆矩阵')\n",
    "\n",
    "    plt.figure(figsize=(10, 8))\n",
    "    plt.imshow(cm, interpolation='nearest', cmap=cmap)\n",
    "    plt.title(title, fontsize=14)\n",
    "    plt.colorbar()\n",
    "\n",
    "    tick_marks = np.arange(len(classes))\n",
    "    plt.xticks(tick_marks, classes, rotation=45)\n",
    "    plt.yticks(tick_marks, classes)\n",
    "\n",
    "    fmt = '.2f' if normalize else 'd'\n",
    "    thresh = cm.max() / 2.\n",
    "    for i in range(cm.shape[0]):\n",
    "        for j in range(cm.shape[1]):\n",
    "            plt.text(j, i, format(cm[i, j], fmt),\n",
    "                     horizontalalignment=\"center\",\n",
    "                     color=\"white\" if cm[i, j] > thresh else \"black\")\n",
    "\n",
    "    plt.ylabel('True Label', fontsize=12)\n",
    "    plt.xlabel('Pred Label', fontsize=12)\n",
    "    plt.tight_layout()\n",
    "    plt.show()"
   ]
  },
  {
   "cell_type": "code",
   "execution_count": 35,
   "id": "509224c5-8dbe-427c-bf6d-a6ebf3ec47c2",
   "metadata": {},
   "outputs": [
    {
     "name": "stdout",
     "output_type": "stream",
     "text": [
      "OrderedDict({'linear1.weight': tensor([[-2.8799, 11.5018, -2.7153, -2.6807, -2.9423],\n",
      "        [-2.8843, -3.0355, -2.7452, 11.8481, -2.8744],\n",
      "        [11.6562, -2.9788, -2.7228, -2.7518, -2.8668],\n",
      "        [-3.0062, -3.1818, -2.8118, -2.8170, 12.1446],\n",
      "        [-3.0318, -2.9617, 11.8937, -2.7276, -2.9252]]), 'linear1.bias': tensor([-3.1628, -3.2110, -3.3118, -3.3399, -3.2123]), 'linear2.weight': tensor([[-30.1667, -27.6593,  79.2969, -27.2143, -28.3352],\n",
      "        [ 80.0335, -29.9528, -29.5694, -27.0126, -30.2569],\n",
      "        [-30.1449, -28.3212, -27.7083, -30.1760,  81.0823],\n",
      "        [-29.2941,  80.9646, -28.6814, -29.5954, -31.1997],\n",
      "        [-26.5997, -27.6786, -27.4304,  77.5233, -30.3481]]), 'linear2.bias': tensor([-0.0384,  0.0070, -0.1882,  0.3821, -0.0645])})\n",
      "正确预测个数：990, 正确率：0.99\n",
      "归一化混淆矩阵\n"
     ]
    },
    {
     "data": {
      "image/png": "[encoded data removed]",
      "text/plain": [
       "<Figure size 1000x800 with 2 Axes>"
      ]
     },
     "metadata": {},
     "output_type": "display_data"
    }
   ],
   "source": [
    "# 在测试集上的预测并绘制混淆矩阵\n",
    "correct, all_targets, all_preds = predict_batch(model_path, data_path)\n",
    "# 计算混淆矩阵\n",
    "cm = confusion_matrix(all_targets, all_preds)\n",
    "\n",
    "# 可视化\n",
    "class_names = ['Class 0', 'Class 1', 'Class 2', 'Class 3', 'Class 4']\n",
    "plot_confusion_matrix(cm, classes=class_names, normalize=True)"
   ]
  },
  {
   "cell_type": "code",
   "execution_count": null,
   "id": "f58e4bb1-e84a-447a-9838-2909352ad6d8",
   "metadata": {},
   "outputs": [],
   "source": []
  }
 ],
 "metadata": {
  "kernelspec": {
   "display_name": "Python 3 (ipykernel)",
   "language": "python",
   "name": "python3"
  },
  "language_info": {
   "codemirror_mode": {
    "name": "ipython",
    "version": 3
   },
   "file_extension": ".py",
   "mimetype": "text/x-python",
   "name": "python",
   "nbconvert_exporter": "python",
   "pygments_lexer": "ipython3",
   "version": "3.12.9"
  }
 },
 "nbformat": 4,
 "nbformat_minor": 5
}
